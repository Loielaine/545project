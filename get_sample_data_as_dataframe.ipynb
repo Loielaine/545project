{
 "cells": [
  {
   "cell_type": "code",
   "execution_count": 1,
   "metadata": {},
   "outputs": [],
   "source": [
    "import pandas as pd\n",
    "import math\n",
    "import numpy as np\n",
    "import os\n",
    "from sklearn import preprocessing\n",
    "# print(os.getcwd())\n",
    "# change working directory\n",
    "wd = \"/Users/exequielpunzalan/EECS545/project/bigquery-geotab-intersection-congestion/545project/data_to_use/\""
   ]
  },
  {
   "cell_type": "code",
   "execution_count": null,
   "metadata": {},
   "outputs": [],
   "source": [
    "# data with weather\n",
    "# data = pd.read_csv(wd + \"train_with_weather.csv\")\n",
    "# data.rename(columns={'Cityid':'CityId'}, inplace=True)\n",
    "\n",
    "# # baseline data\n",
    "data = pd.read_csv(wd + 'train.csv') \n",
    "data['CityId'] = ''\n",
    "# remove Philadelphia\n",
    "data = data[data.City!='Philadelphia']\n",
    "data.loc[data.City=='Atlanta','CityId'] = 3\n",
    "data.loc[data.City=='Boston','CityId'] = 2\n",
    "data.loc[data.City=='Chicago','CityId'] = 1"
   ]
  }
 ],
 "metadata": {
  "kernelspec": {
   "display_name": "EECS545-env-py37",
   "language": "python",
   "name": "eecs545-env"
  },
  "language_info": {
   "codemirror_mode": {
    "name": "ipython",
    "version": 3
   },
   "file_extension": ".py",
   "mimetype": "text/x-python",
   "name": "python",
   "nbconvert_exporter": "python",
   "pygments_lexer": "ipython3",
   "version": "3.7.4"
  }
 },
 "nbformat": 4,
 "nbformat_minor": 2
}
