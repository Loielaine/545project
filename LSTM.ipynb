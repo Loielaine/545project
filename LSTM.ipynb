{
 "cells": [
  {
   "cell_type": "markdown",
   "metadata": {},
   "source": [
    "# Data Preparation"
   ]
  },
  {
   "cell_type": "code",
   "execution_count": 1,
   "metadata": {
    "collapsed": true
   },
   "outputs": [],
   "source": [
    "import numpy as np\n",
    "from sklearn import preprocessing\n",
    "from sklearn.model_selection import train_test_split\n",
    "import pandas as pd\n",
    "import matplotlib.pyplot as plt"
   ]
  },
  {
   "cell_type": "code",
   "execution_count": 3,
   "metadata": {},
   "outputs": [],
   "source": [
    "dir = '../data/'\n",
    "data = pd.read_csv(dir+'train_weather.csv')"
   ]
  },
  {
   "cell_type": "code",
   "execution_count": 4,
   "metadata": {},
   "outputs": [
    {
     "data": {
      "text/plain": [
       "RowId                          int64\n",
       "IntersectionId                 int64\n",
       "Latitude                     float64\n",
       "Longitude                    float64\n",
       "EntryStreetName               object\n",
       "ExitStreetName                object\n",
       "EntryHeading                  object\n",
       "ExitHeading                   object\n",
       "Hour                           int64\n",
       "Weekend                        int64\n",
       "Month                          int64\n",
       "Path                          object\n",
       "TotalTimeStopped_p20           int64\n",
       "TotalTimeStopped_p40           int64\n",
       "TotalTimeStopped_p50           int64\n",
       "TotalTimeStopped_p60           int64\n",
       "TotalTimeStopped_p80           int64\n",
       "TimeFromFirstStop_p20          int64\n",
       "TimeFromFirstStop_p40          int64\n",
       "TimeFromFirstStop_p50          int64\n",
       "TimeFromFirstStop_p60          int64\n",
       "TimeFromFirstStop_p80          int64\n",
       "DistanceToFirstStop_p20      float64\n",
       "DistanceToFirstStop_p40      float64\n",
       "DistanceToFirstStop_p50      float64\n",
       "DistanceToFirstStop_p60      float64\n",
       "DistanceToFirstStop_p80      float64\n",
       "City                          object\n",
       "Cityid                         int64\n",
       "CenterDistance               float64\n",
       "DailySnowDepth               float64\n",
       "DailySnowfall                float64\n",
       "HourlyDewPointTemperature    float64\n",
       "HourlyDryBulbTemperature     float64\n",
       "HourlyPrecipitation          float64\n",
       "HourlyVisibility             float64\n",
       "HourlyWetBulbTemperature     float64\n",
       "HourlyWindSpeed              float64\n",
       "DaylightTime                 float64\n",
       "dtype: object"
      ]
     },
     "execution_count": 4,
     "metadata": {},
     "output_type": "execute_result"
    }
   ],
   "source": [
    "data.dtypes"
   ]
  },
  {
   "cell_type": "code",
   "execution_count": 5,
   "metadata": {},
   "outputs": [
    {
     "data": {
      "text/plain": [
       "Index([u'RowId', u'IntersectionId', u'Latitude', u'Longitude',\n",
       "       u'EntryStreetName', u'ExitStreetName', u'EntryHeading', u'ExitHeading',\n",
       "       u'Hour', u'Weekend', u'Month', u'Path', u'TotalTimeStopped_p20',\n",
       "       u'TotalTimeStopped_p40', u'TotalTimeStopped_p50',\n",
       "       u'TotalTimeStopped_p60', u'TotalTimeStopped_p80',\n",
       "       u'TimeFromFirstStop_p20', u'TimeFromFirstStop_p40',\n",
       "       u'TimeFromFirstStop_p50', u'TimeFromFirstStop_p60',\n",
       "       u'TimeFromFirstStop_p80', u'DistanceToFirstStop_p20',\n",
       "       u'DistanceToFirstStop_p40', u'DistanceToFirstStop_p50',\n",
       "       u'DistanceToFirstStop_p60', u'DistanceToFirstStop_p80', u'City',\n",
       "       u'Cityid', u'CenterDistance', u'DailySnowDepth', u'DailySnowfall',\n",
       "       u'HourlyDewPointTemperature', u'HourlyDryBulbTemperature',\n",
       "       u'HourlyPrecipitation', u'HourlyVisibility',\n",
       "       u'HourlyWetBulbTemperature', u'HourlyWindSpeed', u'DaylightTime'],\n",
       "      dtype='object')"
      ]
     },
     "execution_count": 5,
     "metadata": {},
     "output_type": "execute_result"
    }
   ],
   "source": [
    "data.columns"
   ]
  },
  {
   "cell_type": "code",
   "execution_count": 53,
   "metadata": {
    "collapsed": true
   },
   "outputs": [],
   "source": [
    "X = data.drop(['RowId','EntryStreetName','Path',\n",
    "       'ExitStreetName','TotalTimeStopped_p20', 'TotalTimeStopped_p40',\n",
    "       'TotalTimeStopped_p50', 'TotalTimeStopped_p60', 'TotalTimeStopped_p80',\n",
    "       'TimeFromFirstStop_p20', 'TimeFromFirstStop_p40',\n",
    "       'TimeFromFirstStop_p50', 'TimeFromFirstStop_p60',\n",
    "       'TimeFromFirstStop_p80', 'DistanceToFirstStop_p20',\n",
    "       'DistanceToFirstStop_p40', 'DistanceToFirstStop_p50',\n",
    "       'DistanceToFirstStop_p60', 'DistanceToFirstStop_p80'],axis=1)"
   ]
  },
  {
   "cell_type": "code",
   "execution_count": 54,
   "metadata": {
    "collapsed": true
   },
   "outputs": [],
   "source": [
    "y = data[['TotalTimeStopped_p20', 'TotalTimeStopped_p40',\n",
    "       'TotalTimeStopped_p50', 'TotalTimeStopped_p60', 'TotalTimeStopped_p80',\n",
    "       'TimeFromFirstStop_p20', 'TimeFromFirstStop_p40',\n",
    "       'TimeFromFirstStop_p50', 'TimeFromFirstStop_p60',\n",
    "       'TimeFromFirstStop_p80', 'DistanceToFirstStop_p20',\n",
    "       'DistanceToFirstStop_p40', 'DistanceToFirstStop_p50',\n",
    "       'DistanceToFirstStop_p60', 'DistanceToFirstStop_p80']]"
   ]
  },
  {
   "cell_type": "code",
   "execution_count": 55,
   "metadata": {
    "collapsed": true
   },
   "outputs": [],
   "source": [
    "y = data['TotalTimeStopped_p20'].values"
   ]
  },
  {
   "cell_type": "code",
   "execution_count": 56,
   "metadata": {
    "collapsed": true
   },
   "outputs": [],
   "source": [
    "# onehot encoding\n",
    "X_1 = X[['Cityid','EntryHeading', 'ExitHeading','Hour', 'Weekend',\n",
    "       'Month']]\n",
    "le = preprocessing.LabelEncoder()\n",
    "X_2 = X_1.apply(le.fit_transform)\n",
    "enc = preprocessing.OneHotEncoder()\n",
    "enc.fit(X_2)\n",
    "X_enc = enc.transform(X_2).toarray()"
   ]
  },
  {
   "cell_type": "code",
   "execution_count": 57,
   "metadata": {
    "collapsed": true
   },
   "outputs": [],
   "source": [
    "X = X.drop(['IntersectionId','EntryHeading','ExitHeading','City'], axis=1).values\n",
    "X = np.c_[X_enc,X]"
   ]
  },
  {
   "cell_type": "code",
   "execution_count": 58,
   "metadata": {},
   "outputs": [],
   "source": [
    "# remove nan, infinite\n",
    "X_t = X[ ~np.isnan(X).any(axis=1), :]\n",
    "y_t = y[~np.isnan(X).any(axis=1)]\n",
    "X_clean = X_t[ np.isfinite(X_t).any(axis=1), :]\n",
    "y_clean = y_t[ np.isfinite(X_t).any(axis=1)]"
   ]
  },
  {
   "cell_type": "code",
   "execution_count": 63,
   "metadata": {
    "scrolled": true
   },
   "outputs": [],
   "source": [
    "# scaling\n",
    "scaler =preprocessing.MinMaxScaler()\n",
    "scaler.fit(X_clean)\n",
    "X_clean = scaler.transform(X_clean)"
   ]
  },
  {
   "cell_type": "code",
   "execution_count": 64,
   "metadata": {},
   "outputs": [],
   "source": [
    "X_train, X_valid, y_train, y_valid = train_test_split(X_clean, y_clean, test_size=0.2, random_state=42)"
   ]
  },
  {
   "cell_type": "code",
   "execution_count": 65,
   "metadata": {},
   "outputs": [
    {
     "data": {
      "text/plain": [
       "(375228, 70, 1)"
      ]
     },
     "execution_count": 65,
     "metadata": {},
     "output_type": "execute_result"
    }
   ],
   "source": [
    "# reshape feature matrix\n",
    "X_train = X_train.reshape(X_train.shape[0], X_train.shape[1],1)\n",
    "X_train.shape"
   ]
  },
  {
   "cell_type": "code",
   "execution_count": 66,
   "metadata": {},
   "outputs": [
    {
     "data": {
      "text/plain": [
       "(93807, 70, 1)"
      ]
     },
     "execution_count": 66,
     "metadata": {},
     "output_type": "execute_result"
    }
   ],
   "source": [
    "X_valid = X_valid.reshape(X_valid.shape[0], X_valid.shape[1],1)\n",
    "X_valid.shape"
   ]
  },
  {
   "cell_type": "code",
   "execution_count": 67,
   "metadata": {},
   "outputs": [
    {
     "data": {
      "text/plain": [
       "(375228,)"
      ]
     },
     "execution_count": 67,
     "metadata": {},
     "output_type": "execute_result"
    }
   ],
   "source": [
    "y_train.shape"
   ]
  },
  {
   "cell_type": "code",
   "execution_count": 68,
   "metadata": {},
   "outputs": [
    {
     "data": {
      "text/plain": [
       "(93807,)"
      ]
     },
     "execution_count": 68,
     "metadata": {},
     "output_type": "execute_result"
    }
   ],
   "source": [
    "y_valid.shape"
   ]
  },
  {
   "cell_type": "markdown",
   "metadata": {},
   "source": [
    "# LSTM"
   ]
  },
  {
   "cell_type": "code",
   "execution_count": 70,
   "metadata": {},
   "outputs": [
    {
     "name": "stderr",
     "output_type": "stream",
     "text": [
      "/Users/Loielaine/anaconda/lib/python2.7/site-packages/h5py/__init__.py:36: FutureWarning: Conversion of the second argument of issubdtype from `float` to `np.floating` is deprecated. In future, it will be treated as `np.float64 == np.dtype(float).type`.\n",
      "  from ._conv import register_converters as _register_converters\n",
      "Using TensorFlow backend.\n"
     ]
    }
   ],
   "source": [
    "import keras\n",
    "from keras.models import Sequential\n",
    "from keras.layers import LSTM, Dense, Dropout, Masking, Embedding"
   ]
  },
  {
   "cell_type": "code",
   "execution_count": 71,
   "metadata": {},
   "outputs": [
    {
     "name": "stdout",
     "output_type": "stream",
     "text": [
      "WARNING:tensorflow:From /Users/Loielaine/anaconda/lib/python2.7/site-packages/tensorflow/python/ops/resource_variable_ops.py:435: colocate_with (from tensorflow.python.framework.ops) is deprecated and will be removed in a future version.\n",
      "Instructions for updating:\n",
      "Colocations handled automatically by placer.\n",
      "Model: \"sequential_1\"\n",
      "_________________________________________________________________\n",
      "Layer (type)                 Output Shape              Param #   \n",
      "=================================================================\n",
      "lstm_1 (LSTM)                (None, None, 50)          10400     \n",
      "_________________________________________________________________\n",
      "dropout_1 (Dropout)          (None, None, 50)          0         \n",
      "_________________________________________________________________\n",
      "lstm_2 (LSTM)                (None, None, 50)          20200     \n",
      "_________________________________________________________________\n",
      "dropout_2 (Dropout)          (None, None, 50)          0         \n",
      "_________________________________________________________________\n",
      "lstm_3 (LSTM)                (None, None, 50)          20200     \n",
      "_________________________________________________________________\n",
      "dropout_3 (Dropout)          (None, None, 50)          0         \n",
      "_________________________________________________________________\n",
      "lstm_4 (LSTM)                (None, 50)                20200     \n",
      "_________________________________________________________________\n",
      "dropout_4 (Dropout)          (None, 50)                0         \n",
      "_________________________________________________________________\n",
      "dense_1 (Dense)              (None, 1)                 51        \n",
      "=================================================================\n",
      "Total params: 71,051\n",
      "Trainable params: 71,051\n",
      "Non-trainable params: 0\n",
      "_________________________________________________________________\n",
      "None\n"
     ]
    }
   ],
   "source": [
    "model = Sequential() #layers [1,50,50,50,50,1]\n",
    "model.add(LSTM(input_shape=(None,1),units=50,return_sequences=True))\n",
    "model.add(Dropout(0.3))\n",
    "model.add(LSTM(input_shape=(None,50),units=50,return_sequences=True))\n",
    "model.add(Dropout(0.3))\n",
    "model.add(LSTM(input_shape=(None,50),units=50,return_sequences=True))\n",
    "model.add(Dropout(0.3))\n",
    "model.add(LSTM(50,return_sequences=False))\n",
    "model.add(Dropout(0.3))\n",
    "model.add(Dense(1, activation='softmax'))\n",
    "# model.add(Activation(\"sigmoid\"))\n",
    "#start = time.time()\n",
    "model.compile(loss=\"mse\", optimizer=\"rmsprop\")\n",
    "#print(\"Compilation Time : \", time.time() - start)\n",
    "print(model.summary())"
   ]
  },
  {
   "cell_type": "code",
   "execution_count": null,
   "metadata": {},
   "outputs": [
    {
     "name": "stdout",
     "output_type": "stream",
     "text": [
      "WARNING:tensorflow:From /Users/Loielaine/anaconda/lib/python2.7/site-packages/tensorflow/python/ops/math_ops.py:3066: to_int32 (from tensorflow.python.ops.math_ops) is deprecated and will be removed in a future version.\n",
      "Instructions for updating:\n",
      "Use tf.cast instead.\n"
     ]
    },
    {
     "name": "stderr",
     "output_type": "stream",
     "text": [
      "/Users/Loielaine/anaconda/lib/python2.7/site-packages/ipykernel_launcher.py:1: UserWarning: The `nb_epoch` argument in `fit` has been renamed `epochs`.\n",
      "  \"\"\"Entry point for launching an IPython kernel.\n"
     ]
    },
    {
     "name": "stdout",
     "output_type": "stream",
     "text": [
      "Train on 337705 samples, validate on 37523 samples\n",
      "Epoch 1/5\n",
      "337705/337705 [==============================] - 1249s 4ms/step - loss: 61.9498 - val_loss: 56.5876\n",
      "Epoch 2/5\n",
      "337705/337705 [==============================] - 1179s 3ms/step - loss: 61.9498 - val_loss: 56.5876\n",
      "Epoch 3/5\n",
      "337705/337705 [==============================] - 1008s 3ms/step - loss: 61.9498 - val_loss: 56.5876\n",
      "Epoch 4/5\n",
      "337705/337705 [==============================] - 11341s 34ms/step - loss: 61.9498 - val_loss: 56.5876\n",
      "Epoch 5/5\n",
      "337705/337705 [==============================] - 2564s 8ms/step - loss: 61.9498 - val_loss: 56.5876\n"
     ]
    },
    {
     "data": {
      "text/plain": [
       "<keras.callbacks.callbacks.History at 0x1a2a620b90>"
      ]
     },
     "execution_count": 72,
     "metadata": {},
     "output_type": "execute_result"
    }
   ],
   "source": [
    "model.fit(X_train,y_train,batch_size=72,nb_epoch=5,validation_split=0.1)"
   ]
  },
  {
   "cell_type": "code",
   "execution_count": null,
   "metadata": {
    "collapsed": true
   },
   "outputs": [],
   "source": [
    "model = Sequential() #layers [1,50,50,50,50,1]\n",
    "model.add(LSTM(input_shape=(None,1),units=50,return_sequences=True))\n",
    "model.add(Dropout(0.3))\n",
    "model.add(LSTM(input_shape=(None,50),units=50,return_sequences=True))\n",
    "model.add(Dropout(0.3))\n",
    "model.add(LSTM(input_shape=(None,50),units=50,return_sequences=True))\n",
    "model.add(Dropout(0.3))\n",
    "model.add(LSTM(50,return_sequences=False))\n",
    "model.add(Dropout(0.3))\n",
    "model.add(Dense(50, activation='relu'))\n",
    "model.add(Dropout(0.5))\n",
    "model.add(Dense(1, activation='softmax'))\n",
    "# model.add(Activation(\"sigmoid\"))\n",
    "#start = time.time()\n",
    "model.compile(loss=\"mse\", optimizer=\"rmsprop\")\n",
    "#print(\"Compilation Time : \", time.time() - start)\n",
    "print(model.summary())"
   ]
  },
  {
   "cell_type": "code",
   "execution_count": 62,
   "metadata": {},
   "outputs": [
    {
     "name": "stdout",
     "output_type": "stream",
     "text": [
      "Model: \"sequential_11\"\n",
      "_________________________________________________________________\n",
      "Layer (type)                 Output Shape              Param #   \n",
      "=================================================================\n",
      "lstm_11 (LSTM)               (None, 128)               101888    \n",
      "_________________________________________________________________\n",
      "dense_19 (Dense)             (None, 128)               16512     \n",
      "_________________________________________________________________\n",
      "dropout_10 (Dropout)         (None, 128)               0         \n",
      "_________________________________________________________________\n",
      "dense_20 (Dense)             (None, 1)                 129       \n",
      "=================================================================\n",
      "Total params: 118,529\n",
      "Trainable params: 118,529\n",
      "Non-trainable params: 0\n",
      "_________________________________________________________________\n",
      "None\n"
     ]
    }
   ],
   "source": [
    "model = Sequential()\n",
    "\n",
    "\n",
    "#model.add(Embedding(input_dim = 70, output_dim=150,input_length = X_train.shape[1], dropout = 0.2))\n",
    "# Masking layer for pre-trained embeddings\n",
    "#model.add(Masking(mask_value=0.0))\n",
    "\n",
    "# Recurrent layer\n",
    "model.add(LSTM(128, input_shape=(X_train.shape[1], X_train.shape[2]), return_sequences=False, \n",
    "               dropout=0.1, recurrent_dropout=0.1))\n",
    "\n",
    "# Fully connected layer\n",
    "model.add(Dense(128, activation='relu'))\n",
    "\n",
    "# Dropout for regularization\n",
    "model.add(Dropout(0.5))\n",
    "\n",
    "# Output layer\n",
    "model.add(Dense(1, activation='softmax'))\n",
    "\n",
    "# Compile the model\n",
    "model.compile(\n",
    "    optimizer='adam', loss='mse',)\n",
    "\n",
    "print(model.summary())"
   ]
  },
  {
   "cell_type": "code",
   "execution_count": 63,
   "metadata": {
    "collapsed": true
   },
   "outputs": [],
   "source": [
    "from keras.callbacks import EarlyStopping, ModelCheckpoint"
   ]
  },
  {
   "cell_type": "code",
   "execution_count": 64,
   "metadata": {},
   "outputs": [
    {
     "name": "stdout",
     "output_type": "stream",
     "text": [
      "Train on 314288 samples, validate on 154799 samples\n",
      "Epoch 1/5\n",
      " - 77s - loss: nan - val_loss: nan\n",
      "Epoch 2/5\n",
      " - 100s - loss: nan - val_loss: nan\n",
      "Epoch 3/5\n",
      " - 73s - loss: nan - val_loss: nan\n",
      "Epoch 4/5\n",
      " - 59s - loss: nan - val_loss: nan\n",
      "Epoch 5/5\n",
      " - 60s - loss: nan - val_loss: nan\n"
     ]
    }
   ],
   "source": [
    "# fit network\n",
    "history = model.fit(X_train, y_train, epochs=5, batch_size=24, validation_data=(X_valid, y_valid), verbose=2, shuffle=False)"
   ]
  },
  {
   "cell_type": "code",
   "execution_count": 56,
   "metadata": {},
   "outputs": [
    {
     "data": {
      "image/png": "[encoded data removed]",
      "text/plain": [
       "<matplotlib.figure.Figure at 0x1a31a764d0>"
      ]
     },
     "metadata": {},
     "output_type": "display_data"
    }
   ],
   "source": [
    "# plot history\n",
    "plt.plot(history.history['loss'], label='train')\n",
    "plt.plot(history.history['val_loss'], label='test')\n",
    "plt.legend()\n",
    "plt.show()"
   ]
  },
  {
   "cell_type": "code",
   "execution_count": null,
   "metadata": {
    "collapsed": true
   },
   "outputs": [],
   "source": []
  }
 ],
 "metadata": {
  "kernelspec": {
   "display_name": "Python 2",
   "language": "python",
   "name": "python2"
  },
  "language_info": {
   "codemirror_mode": {
    "name": "ipython",
    "version": 2
   },
   "file_extension": ".py",
   "mimetype": "text/x-python",
   "name": "python",
   "nbconvert_exporter": "python",
   "pygments_lexer": "ipython2",
   "version": "2.7.14"
  }
 },
 "nbformat": 4,
 "nbformat_minor": 2
}
