{
 "cells": [
  {
   "cell_type": "markdown",
   "metadata": {},
   "source": [
    "# Data Preparation"
   ]
  },
  {
   "cell_type": "code",
   "execution_count": 25,
   "metadata": {
    "collapsed": true
   },
   "outputs": [],
   "source": [
    "import numpy as np\n",
    "from sklearn import preprocessing\n",
    "from sklearn.model_selection import train_test_split\n",
    "import pandas as pd\n",
    "import matplotlib.pyplot as plt\n",
    "from sklearn.metrics import mean_squared_error"
   ]
  },
  {
   "cell_type": "code",
   "execution_count": 42,
   "metadata": {},
   "outputs": [],
   "source": [
    "dir = '/Users/Loielaine/Desktop/umich-2019/EECS545/project/code/545project/'\n",
    "train = np.loadtxt(dir+'train_sample2.csv',delimiter=',')\n",
    "test = np.loadtxt(dir+'test_sample2.csv',delimiter=',')"
   ]
  },
  {
   "cell_type": "code",
   "execution_count": 43,
   "metadata": {},
   "outputs": [],
   "source": [
    "X_train = train[:,:35]\n",
    "y_train = train[:,-2:]\n",
    "X_test = test[:,:35]\n",
    "y_test = test[:,-2:]"
   ]
  },
  {
   "cell_type": "code",
   "execution_count": 44,
   "metadata": {
    "collapsed": true
   },
   "outputs": [],
   "source": [
    "y_train0 = y_train[:,0]\n",
    "y_train1 = y_train[:,1]"
   ]
  },
  {
   "cell_type": "code",
   "execution_count": 45,
   "metadata": {
    "collapsed": true,
    "scrolled": true
   },
   "outputs": [],
   "source": [
    "# scaling\n",
    "def MinMaxScaling(X):\n",
    "    scaler =preprocessing.MinMaxScaler()\n",
    "    scaler.fit(X)\n",
    "    X = scaler.transform(X)\n",
    "    return X"
   ]
  },
  {
   "cell_type": "code",
   "execution_count": 46,
   "metadata": {
    "collapsed": true
   },
   "outputs": [],
   "source": [
    "X_train = MinMaxScaling(X_train)\n",
    "X_test = MinMaxScaling(X_test)"
   ]
  },
  {
   "cell_type": "markdown",
   "metadata": {},
   "source": [
    "## Reshape data"
   ]
  },
  {
   "cell_type": "code",
   "execution_count": 47,
   "metadata": {},
   "outputs": [
    {
     "data": {
      "text/plain": [
       "(10197, 1, 35)"
      ]
     },
     "execution_count": 47,
     "metadata": {},
     "output_type": "execute_result"
    }
   ],
   "source": [
    "# reshape feature matrix\n",
    "X_train = X_train.reshape(X_train.shape[0],1,X_train.shape[1])\n",
    "X_train.shape"
   ]
  },
  {
   "cell_type": "code",
   "execution_count": 48,
   "metadata": {},
   "outputs": [
    {
     "data": {
      "text/plain": [
       "(2550, 1, 35)"
      ]
     },
     "execution_count": 48,
     "metadata": {},
     "output_type": "execute_result"
    }
   ],
   "source": [
    "# reshape feature matrix\n",
    "X_test = X_test.reshape(X_test.shape[0], 1,X_test.shape[1])\n",
    "X_test.shape"
   ]
  },
  {
   "cell_type": "markdown",
   "metadata": {},
   "source": [
    "# LSTM"
   ]
  },
  {
   "cell_type": "code",
   "execution_count": null,
   "metadata": {
    "collapsed": true
   },
   "outputs": [],
   "source": []
  },
  {
   "cell_type": "code",
   "execution_count": 49,
   "metadata": {},
   "outputs": [],
   "source": [
    "import keras\n",
    "from keras.models import Sequential,Model\n",
    "from keras.layers import LSTM, Dense, Dropout, Masking, Embedding, Input, TimeDistributed "
   ]
  },
  {
   "cell_type": "code",
   "execution_count": 50,
   "metadata": {},
   "outputs": [
    {
     "name": "stdout",
     "output_type": "stream",
     "text": [
      "Model: \"sequential_3\"\n",
      "_________________________________________________________________\n",
      "Layer (type)                 Output Shape              Param #   \n",
      "=================================================================\n",
      "lstm_7 (LSTM)                (None, 1, 100)            54400     \n",
      "_________________________________________________________________\n",
      "dropout_7 (Dropout)          (None, 1, 100)            0         \n",
      "_________________________________________________________________\n",
      "lstm_8 (LSTM)                (None, 1, 50)             30200     \n",
      "_________________________________________________________________\n",
      "dropout_8 (Dropout)          (None, 1, 50)             0         \n",
      "_________________________________________________________________\n",
      "lstm_9 (LSTM)                (None, 50)                20200     \n",
      "_________________________________________________________________\n",
      "dropout_9 (Dropout)          (None, 50)                0         \n",
      "_________________________________________________________________\n",
      "dense_3 (Dense)              (None, 1)                 51        \n",
      "=================================================================\n",
      "Total params: 104,851\n",
      "Trainable params: 104,851\n",
      "Non-trainable params: 0\n",
      "_________________________________________________________________\n",
      "None\n"
     ]
    }
   ],
   "source": [
    "model = Sequential() #layers [1,50,50,50,50,1]\n",
    "model.add(LSTM(input_shape=(1,35),units=100,return_sequences=True))\n",
    "model.add(Dropout(0.3))\n",
    "model.add(LSTM(input_shape=(None,100),units=50,return_sequences=True))\n",
    "model.add(Dropout(0.3))\n",
    "#model.add(LSTM(input_shape=(None,50),units=50,return_sequences=True))\n",
    "#model.add(Dropout(0.3))\n",
    "model.add(LSTM(50,return_sequences=False))\n",
    "model.add(Dropout(0.3))\n",
    "model.add(Dense(1, activation='relu'))\n",
    "# model.add(Activation(\"sigmoid\"))\n",
    "#start = time.time()\n",
    "model.compile(loss=\"mse\", optimizer=\"rmsprop\")\n",
    "#print(\"Compilation Time : \", time.time() - start)\n",
    "print(model.summary())"
   ]
  },
  {
   "cell_type": "code",
   "execution_count": 51,
   "metadata": {
    "scrolled": true
   },
   "outputs": [
    {
     "name": "stdout",
     "output_type": "stream",
     "text": [
      "Train on 9177 samples, validate on 1020 samples\n",
      "Epoch 1/100\n",
      "9177/9177 [==============================] - 6s 647us/step - loss: 216.7429 - val_loss: 256.5701\n",
      "Epoch 2/100\n",
      "9177/9177 [==============================] - 4s 462us/step - loss: 208.4965 - val_loss: 252.7779\n",
      "Epoch 3/100\n",
      "9177/9177 [==============================] - 5s 511us/step - loss: 207.1009 - val_loss: 251.6445\n",
      "Epoch 4/100\n",
      "9177/9177 [==============================] - 4s 472us/step - loss: 204.4278 - val_loss: 248.3657\n",
      "Epoch 5/100\n",
      "9177/9177 [==============================] - 4s 396us/step - loss: 201.9950 - val_loss: 246.2750\n",
      "Epoch 6/100\n",
      "9177/9177 [==============================] - 4s 401us/step - loss: 198.1669 - val_loss: 245.4530\n",
      "Epoch 7/100\n",
      "9177/9177 [==============================] - 3s 305us/step - loss: 193.7579 - val_loss: 241.1723\n",
      "Epoch 8/100\n",
      "9177/9177 [==============================] - 3s 291us/step - loss: 191.7306 - val_loss: 240.6241\n",
      "Epoch 9/100\n",
      "9177/9177 [==============================] - 3s 355us/step - loss: 187.7005 - val_loss: 239.9489\n",
      "Epoch 10/100\n",
      "9177/9177 [==============================] - 3s 298us/step - loss: 184.9324 - val_loss: 230.4168\n",
      "Epoch 11/100\n",
      "9177/9177 [==============================] - 2s 270us/step - loss: 181.2409 - val_loss: 229.9274\n",
      "Epoch 12/100\n",
      "9177/9177 [==============================] - 2s 269us/step - loss: 178.4107 - val_loss: 225.6211\n",
      "Epoch 13/100\n",
      "9177/9177 [==============================] - 2s 263us/step - loss: 176.3537 - val_loss: 226.9316\n",
      "Epoch 14/100\n",
      "9177/9177 [==============================] - 2s 269us/step - loss: 175.6942 - val_loss: 222.2418\n",
      "Epoch 15/100\n",
      "9177/9177 [==============================] - 3s 309us/step - loss: 173.6961 - val_loss: 222.8796\n",
      "Epoch 16/100\n",
      "9177/9177 [==============================] - 3s 297us/step - loss: 173.9447 - val_loss: 217.0320\n",
      "Epoch 17/100\n",
      "9177/9177 [==============================] - 3s 325us/step - loss: 171.2867 - val_loss: 223.0789\n",
      "Epoch 18/100\n",
      "9177/9177 [==============================] - 3s 353us/step - loss: 169.2300 - val_loss: 216.0776\n",
      "Epoch 19/100\n",
      "9177/9177 [==============================] - 4s 429us/step - loss: 168.5925 - val_loss: 211.6345\n",
      "Epoch 20/100\n",
      "9177/9177 [==============================] - 3s 342us/step - loss: 166.3240 - val_loss: 207.5427\n",
      "Epoch 21/100\n",
      "9177/9177 [==============================] - 3s 312us/step - loss: 166.1032 - val_loss: 208.7434\n",
      "Epoch 22/100\n",
      "9177/9177 [==============================] - 3s 302us/step - loss: 165.3287 - val_loss: 206.1713\n",
      "Epoch 23/100\n",
      "9177/9177 [==============================] - 3s 343us/step - loss: 163.5499 - val_loss: 205.6016\n",
      "Epoch 24/100\n",
      "9177/9177 [==============================] - 3s 367us/step - loss: 162.2617 - val_loss: 205.7281\n",
      "Epoch 25/100\n",
      "9177/9177 [==============================] - 4s 444us/step - loss: 161.6577 - val_loss: 206.4887\n",
      "Epoch 26/100\n",
      "9177/9177 [==============================] - 3s 367us/step - loss: 161.3615 - val_loss: 203.2611\n",
      "Epoch 27/100\n",
      "9177/9177 [==============================] - 3s 336us/step - loss: 158.9399 - val_loss: 203.3399\n",
      "Epoch 28/100\n",
      "9177/9177 [==============================] - 3s 339us/step - loss: 158.9805 - val_loss: 201.2154\n",
      "Epoch 29/100\n",
      "9177/9177 [==============================] - 3s 345us/step - loss: 159.0491 - val_loss: 196.4887\n",
      "Epoch 30/100\n",
      "9177/9177 [==============================] - 3s 330us/step - loss: 156.7461 - val_loss: 199.3314\n",
      "Epoch 31/100\n",
      "9177/9177 [==============================] - 3s 324us/step - loss: 158.3289 - val_loss: 198.3182\n",
      "Epoch 32/100\n",
      "9177/9177 [==============================] - 4s 389us/step - loss: 156.1967 - val_loss: 194.8456\n",
      "Epoch 33/100\n",
      "9177/9177 [==============================] - 4s 488us/step - loss: 155.3845 - val_loss: 197.0458\n",
      "Epoch 34/100\n",
      "9177/9177 [==============================] - 4s 459us/step - loss: 156.6744 - val_loss: 195.1437\n",
      "Epoch 35/100\n",
      "9177/9177 [==============================] - 3s 373us/step - loss: 155.3373 - val_loss: 194.2857\n",
      "Epoch 36/100\n",
      "9177/9177 [==============================] - 3s 350us/step - loss: 154.7366 - val_loss: 192.6155\n",
      "Epoch 37/100\n",
      "9177/9177 [==============================] - 3s 372us/step - loss: 153.6869 - val_loss: 195.0333\n",
      "Epoch 38/100\n",
      "9177/9177 [==============================] - 4s 387us/step - loss: 154.1353 - val_loss: 192.4803\n",
      "Epoch 39/100\n",
      "9177/9177 [==============================] - 4s 429us/step - loss: 152.8410 - val_loss: 191.9083\n",
      "Epoch 40/100\n",
      "9177/9177 [==============================] - 3s 372us/step - loss: 151.3877 - val_loss: 196.8645\n",
      "Epoch 41/100\n",
      "9177/9177 [==============================] - 4s 463us/step - loss: 151.9631 - val_loss: 191.7777\n",
      "Epoch 42/100\n",
      "9177/9177 [==============================] - 4s 440us/step - loss: 152.0955 - val_loss: 192.5667\n",
      "Epoch 43/100\n",
      "9177/9177 [==============================] - 4s 469us/step - loss: 150.5989 - val_loss: 195.4904\n",
      "Epoch 44/100\n",
      "9177/9177 [==============================] - 4s 455us/step - loss: 149.5168 - val_loss: 188.3009\n",
      "Epoch 45/100\n",
      "9177/9177 [==============================] - 3s 367us/step - loss: 150.3700 - val_loss: 193.1050\n",
      "Epoch 46/100\n",
      "9177/9177 [==============================] - 5s 507us/step - loss: 149.8728 - val_loss: 193.7817\n",
      "Epoch 47/100\n",
      "9177/9177 [==============================] - 4s 453us/step - loss: 149.0364 - val_loss: 191.0208\n",
      "Epoch 48/100\n",
      "9177/9177 [==============================] - 4s 452us/step - loss: 150.3585 - val_loss: 191.1512\n",
      "Epoch 49/100\n",
      "9177/9177 [==============================] - 4s 479us/step - loss: 149.3585 - val_loss: 191.3629\n",
      "Epoch 50/100\n",
      "9177/9177 [==============================] - 4s 451us/step - loss: 148.6367 - val_loss: 190.5213\n",
      "Epoch 51/100\n",
      "9177/9177 [==============================] - 4s 424us/step - loss: 148.6899 - val_loss: 190.9212\n",
      "Epoch 52/100\n",
      "9177/9177 [==============================] - 4s 455us/step - loss: 147.8461 - val_loss: 191.8619\n",
      "Epoch 53/100\n",
      "9177/9177 [==============================] - 4s 396us/step - loss: 148.3562 - val_loss: 188.2973\n",
      "Epoch 54/100\n",
      "9177/9177 [==============================] - 3s 325us/step - loss: 148.3624 - val_loss: 194.2769\n",
      "Epoch 55/100\n",
      "9177/9177 [==============================] - 3s 349us/step - loss: 147.3170 - val_loss: 190.8363\n",
      "Epoch 56/100\n",
      "9177/9177 [==============================] - 3s 327us/step - loss: 148.7461 - val_loss: 186.7373\n",
      "Epoch 57/100\n",
      "9177/9177 [==============================] - 3s 356us/step - loss: 144.9731 - val_loss: 187.3392\n",
      "Epoch 58/100\n",
      "9177/9177 [==============================] - 4s 464us/step - loss: 146.5510 - val_loss: 187.7808\n",
      "Epoch 59/100\n",
      "9177/9177 [==============================] - 3s 313us/step - loss: 145.2394 - val_loss: 189.2204\n",
      "Epoch 60/100\n",
      "9177/9177 [==============================] - 3s 378us/step - loss: 145.7592 - val_loss: 187.8024\n",
      "Epoch 61/100\n",
      "9177/9177 [==============================] - 3s 364us/step - loss: 144.9520 - val_loss: 189.8034\n",
      "Epoch 62/100\n",
      "9177/9177 [==============================] - 3s 362us/step - loss: 145.9817 - val_loss: 186.3640\n",
      "Epoch 63/100\n",
      "9177/9177 [==============================] - 4s 450us/step - loss: 145.5599 - val_loss: 186.2909\n",
      "Epoch 64/100\n",
      "9177/9177 [==============================] - 4s 485us/step - loss: 144.5151 - val_loss: 185.4993\n",
      "Epoch 65/100\n",
      "9177/9177 [==============================] - 4s 457us/step - loss: 143.7510 - val_loss: 185.8511\n",
      "Epoch 66/100\n",
      "9177/9177 [==============================] - 5s 498us/step - loss: 142.9362 - val_loss: 186.9342\n",
      "Epoch 67/100\n",
      "9177/9177 [==============================] - 4s 427us/step - loss: 145.4118 - val_loss: 184.8660\n",
      "Epoch 68/100\n",
      "9177/9177 [==============================] - 3s 374us/step - loss: 143.6790 - val_loss: 187.3149\n",
      "Epoch 69/100\n",
      "9177/9177 [==============================] - 4s 391us/step - loss: 140.8837 - val_loss: 187.2361\n",
      "Epoch 70/100\n",
      "9177/9177 [==============================] - 4s 428us/step - loss: 144.8476 - val_loss: 184.7323\n",
      "Epoch 71/100\n",
      "9177/9177 [==============================] - 3s 351us/step - loss: 143.6420 - val_loss: 187.0086\n",
      "Epoch 72/100\n",
      "9177/9177 [==============================] - 2s 264us/step - loss: 142.7773 - val_loss: 187.9687\n",
      "Epoch 73/100\n",
      "9177/9177 [==============================] - 2s 269us/step - loss: 141.4329 - val_loss: 186.8304\n",
      "Epoch 74/100\n",
      "9177/9177 [==============================] - 2s 264us/step - loss: 141.9203 - val_loss: 186.5860\n",
      "Epoch 75/100\n"
     ]
    },
    {
     "name": "stdout",
     "output_type": "stream",
     "text": [
      "9177/9177 [==============================] - 2s 242us/step - loss: 141.5817 - val_loss: 186.3213\n",
      "Epoch 76/100\n",
      "9177/9177 [==============================] - 2s 238us/step - loss: 140.1158 - val_loss: 181.9060\n",
      "Epoch 77/100\n",
      "9177/9177 [==============================] - 2s 235us/step - loss: 140.7665 - val_loss: 185.3654\n",
      "Epoch 78/100\n",
      "9177/9177 [==============================] - 2s 236us/step - loss: 142.0985 - val_loss: 180.5936\n",
      "Epoch 79/100\n",
      "9177/9177 [==============================] - 2s 233us/step - loss: 140.3222 - val_loss: 181.7262\n",
      "Epoch 80/100\n",
      "9177/9177 [==============================] - 2s 236us/step - loss: 139.7914 - val_loss: 188.2124\n",
      "Epoch 81/100\n",
      "9177/9177 [==============================] - 2s 235us/step - loss: 140.3491 - val_loss: 183.1895\n",
      "Epoch 82/100\n",
      "9177/9177 [==============================] - 2s 234us/step - loss: 138.0794 - val_loss: 178.7685\n",
      "Epoch 83/100\n",
      "9177/9177 [==============================] - 2s 233us/step - loss: 139.8357 - val_loss: 179.8672\n",
      "Epoch 84/100\n",
      "9177/9177 [==============================] - 2s 233us/step - loss: 139.1423 - val_loss: 184.4237\n",
      "Epoch 85/100\n",
      "9177/9177 [==============================] - 2s 236us/step - loss: 138.3888 - val_loss: 176.8833\n",
      "Epoch 86/100\n",
      "9177/9177 [==============================] - 2s 235us/step - loss: 139.5958 - val_loss: 184.3996\n",
      "Epoch 87/100\n",
      "9177/9177 [==============================] - 2s 236us/step - loss: 138.8530 - val_loss: 182.6714\n",
      "Epoch 88/100\n",
      "9177/9177 [==============================] - 2s 240us/step - loss: 140.4071 - val_loss: 179.9268\n",
      "Epoch 89/100\n",
      "9177/9177 [==============================] - 3s 284us/step - loss: 138.1315 - val_loss: 181.8012\n",
      "Epoch 90/100\n",
      "9177/9177 [==============================] - 3s 305us/step - loss: 138.7771 - val_loss: 181.1708\n",
      "Epoch 91/100\n",
      "9177/9177 [==============================] - 3s 274us/step - loss: 136.9640 - val_loss: 181.3196\n",
      "Epoch 92/100\n",
      "9177/9177 [==============================] - 3s 284us/step - loss: 137.7387 - val_loss: 179.7016\n",
      "Epoch 93/100\n",
      "9177/9177 [==============================] - 2s 250us/step - loss: 138.7073 - val_loss: 180.4999\n",
      "Epoch 94/100\n",
      "9177/9177 [==============================] - 2s 237us/step - loss: 138.4569 - val_loss: 178.4530\n",
      "Epoch 95/100\n",
      "9177/9177 [==============================] - 2s 237us/step - loss: 137.5094 - val_loss: 180.8906\n",
      "Epoch 96/100\n",
      "9177/9177 [==============================] - 2s 239us/step - loss: 136.0424 - val_loss: 183.9171\n",
      "Epoch 97/100\n",
      "9177/9177 [==============================] - 2s 237us/step - loss: 138.7486 - val_loss: 181.8988\n",
      "Epoch 98/100\n",
      "9177/9177 [==============================] - 2s 237us/step - loss: 137.0424 - val_loss: 181.2179\n",
      "Epoch 99/100\n",
      "9177/9177 [==============================] - 2s 234us/step - loss: 138.3237 - val_loss: 179.5659\n",
      "Epoch 100/100\n",
      "9177/9177 [==============================] - 2s 239us/step - loss: 135.7328 - val_loss: 178.9760\n"
     ]
    }
   ],
   "source": [
    "history = model.fit(X_train,y_train0,batch_size=24,epochs=100,validation_split=0.1)"
   ]
  },
  {
   "cell_type": "code",
   "execution_count": 52,
   "metadata": {},
   "outputs": [
    {
     "data": {
      "image/png": "[encoded data removed]",
      "text/plain": [
       "<matplotlib.figure.Figure at 0x1a37bd1510>"
      ]
     },
     "metadata": {},
     "output_type": "display_data"
    }
   ],
   "source": [
    "# plot history\n",
    "plt.plot(history.history['loss'], label='train')\n",
    "plt.plot(history.history['val_loss'], label='valid')\n",
    "plt.legend()\n",
    "plt.show()"
   ]
  },
  {
   "cell_type": "code",
   "execution_count": 53,
   "metadata": {},
   "outputs": [],
   "source": [
    "mse = mean_squared_error(y_test[:,0],model.predict(X_test)[:,0])"
   ]
  },
  {
   "cell_type": "code",
   "execution_count": 54,
   "metadata": {},
   "outputs": [
    {
     "data": {
      "text/plain": [
       "153.65145761460568"
      ]
     },
     "execution_count": 54,
     "metadata": {},
     "output_type": "execute_result"
    }
   ],
   "source": [
    "mse"
   ]
  },
  {
   "cell_type": "code",
   "execution_count": 55,
   "metadata": {
    "collapsed": true
   },
   "outputs": [],
   "source": [
    "y_pred0 = model.predict(X_test)[:,0]"
   ]
  },
  {
   "cell_type": "code",
   "execution_count": 56,
   "metadata": {},
   "outputs": [
    {
     "data": {
      "image/png": "[encoded data removed]",
      "text/plain": [
       "<matplotlib.figure.Figure at 0x1a37e9c9d0>"
      ]
     },
     "metadata": {},
     "output_type": "display_data"
    }
   ],
   "source": [
    "plt.plot(y_test[:,0],label='Test')\n",
    "plt.plot(y_pred0,label='Predicted')\n",
    "plt.legend()\n",
    "plt.show()"
   ]
  },
  {
   "cell_type": "code",
   "execution_count": null,
   "metadata": {
    "collapsed": true
   },
   "outputs": [],
   "source": []
  }
 ],
 "metadata": {
  "kernelspec": {
   "display_name": "Python 2",
   "language": "python",
   "name": "python2"
  },
  "language_info": {
   "codemirror_mode": {
    "name": "ipython",
    "version": 2
   },
   "file_extension": ".py",
   "mimetype": "text/x-python",
   "name": "python",
   "nbconvert_exporter": "python",
   "pygments_lexer": "ipython2",
   "version": "2.7.14"
  }
 },
 "nbformat": 4,
 "nbformat_minor": 2
}
