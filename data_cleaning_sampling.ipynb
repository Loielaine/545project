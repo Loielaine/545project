{
 "cells": [
  {
   "cell_type": "code",
   "execution_count": 73,
   "metadata": {
    "collapsed": true
   },
   "outputs": [],
   "source": [
    "import pandas as pd\n",
    "import math\n",
    "import numpy as np\n",
    "from sklearn import preprocessing"
   ]
  },
  {
   "cell_type": "markdown",
   "metadata": {},
   "source": [
    "## group weather data"
   ]
  },
  {
   "cell_type": "code",
   "execution_count": 2,
   "metadata": {
    "collapsed": true
   },
   "outputs": [],
   "source": [
    "weather = pd.read_csv('weather_data.csv')"
   ]
  },
  {
   "cell_type": "code",
   "execution_count": 5,
   "metadata": {},
   "outputs": [
    {
     "data": {
      "text/plain": [
       "Index(['cityid', 'DailySnowDepth', 'DailySnowfall', 'HourlyAltimeterSetting',\n",
       "       'HourlyDewPointTemperature', 'HourlyDryBulbTemperature',\n",
       "       'HourlyPrecipitation', 'HourlyVisibility', 'HourlyWetBulbTemperature',\n",
       "       'HourlyWindSpeed', 'Sunrise', 'Sunset', 'day', 'month', 'hour'],\n",
       "      dtype='object')"
      ]
     },
     "execution_count": 5,
     "metadata": {},
     "output_type": "execute_result"
    }
   ],
   "source": [
    "weather.columns"
   ]
  },
  {
   "cell_type": "code",
   "execution_count": 24,
   "metadata": {
    "collapsed": true
   },
   "outputs": [],
   "source": [
    "weather['SunriseHour'] = weather['Sunrise'].apply(lambda x: int(str(x)[:-2]))\n",
    "weather['SunriseMinute'] = weather['Sunrise'].apply(lambda x: int(str(x)[-2:]))\n",
    "weather['SunsetHour'] = weather['Sunset'].apply(lambda x: int(str(x)[:-2]))\n",
    "weather['SunsetMinute'] = weather['Sunset'].apply(lambda x: int(str(x)[-2:]))"
   ]
  },
  {
   "cell_type": "code",
   "execution_count": 27,
   "metadata": {
    "collapsed": true
   },
   "outputs": [],
   "source": [
    "weather['DaylightTime'] = (weather['SunsetHour']-weather['SunriseHour'])*60+(weather['SunsetMinute']-weather['SunriseMinute'])"
   ]
  },
  {
   "cell_type": "code",
   "execution_count": 31,
   "metadata": {
    "collapsed": true
   },
   "outputs": [],
   "source": [
    "weather_group = weather.groupby(['cityid','month','hour'])[['DailySnowDepth', 'DailySnowfall',\n",
    "       'HourlyDewPointTemperature', 'HourlyDryBulbTemperature',\n",
    "       'HourlyPrecipitation', 'HourlyVisibility', 'HourlyWetBulbTemperature',\n",
    "       'HourlyWindSpeed','DaylightTime']].mean().reset_index()"
   ]
  },
  {
   "cell_type": "code",
   "execution_count": 32,
   "metadata": {},
   "outputs": [
    {
     "data": {
      "text/html": [
       "<div>\n",
       "<style>\n",
       "    .dataframe thead tr:only-child th {\n",
       "        text-align: right;\n",
       "    }\n",
       "\n",
       "    .dataframe thead th {\n",
       "        text-align: left;\n",
       "    }\n",
       "\n",
       "    .dataframe tbody tr th {\n",
       "        vertical-align: top;\n",
       "    }\n",
       "</style>\n",
       "<table border=\"1\" class=\"dataframe\">\n",
       "  <thead>\n",
       "    <tr style=\"text-align: right;\">\n",
       "      <th></th>\n",
       "      <th>cityid</th>\n",
       "      <th>month</th>\n",
       "      <th>hour</th>\n",
       "      <th>DailySnowDepth</th>\n",
       "      <th>DailySnowfall</th>\n",
       "      <th>HourlyDewPointTemperature</th>\n",
       "      <th>HourlyDryBulbTemperature</th>\n",
       "      <th>HourlyPrecipitation</th>\n",
       "      <th>HourlyVisibility</th>\n",
       "      <th>HourlyWetBulbTemperature</th>\n",
       "      <th>HourlyWindSpeed</th>\n",
       "      <th>DaylightTime</th>\n",
       "    </tr>\n",
       "  </thead>\n",
       "  <tbody>\n",
       "    <tr>\n",
       "      <th>0</th>\n",
       "      <td>1</td>\n",
       "      <td>1</td>\n",
       "      <td>0</td>\n",
       "      <td>0.0</td>\n",
       "      <td>0.026316</td>\n",
       "      <td>17.684211</td>\n",
       "      <td>21.157895</td>\n",
       "      <td>0.001707</td>\n",
       "      <td>8.026842</td>\n",
       "      <td>19.789474</td>\n",
       "      <td>9.710526</td>\n",
       "      <td>632.736842</td>\n",
       "    </tr>\n",
       "    <tr>\n",
       "      <th>1</th>\n",
       "      <td>1</td>\n",
       "      <td>1</td>\n",
       "      <td>1</td>\n",
       "      <td>0.0</td>\n",
       "      <td>0.023256</td>\n",
       "      <td>20.837209</td>\n",
       "      <td>23.837209</td>\n",
       "      <td>0.002571</td>\n",
       "      <td>7.860465</td>\n",
       "      <td>22.697674</td>\n",
       "      <td>8.441860</td>\n",
       "      <td>634.023256</td>\n",
       "    </tr>\n",
       "    <tr>\n",
       "      <th>2</th>\n",
       "      <td>1</td>\n",
       "      <td>1</td>\n",
       "      <td>2</td>\n",
       "      <td>0.0</td>\n",
       "      <td>0.021739</td>\n",
       "      <td>20.434783</td>\n",
       "      <td>23.434783</td>\n",
       "      <td>0.004250</td>\n",
       "      <td>6.972826</td>\n",
       "      <td>22.413043</td>\n",
       "      <td>9.130435</td>\n",
       "      <td>636.913043</td>\n",
       "    </tr>\n",
       "    <tr>\n",
       "      <th>3</th>\n",
       "      <td>1</td>\n",
       "      <td>1</td>\n",
       "      <td>3</td>\n",
       "      <td>0.0</td>\n",
       "      <td>0.025641</td>\n",
       "      <td>18.102564</td>\n",
       "      <td>21.384615</td>\n",
       "      <td>0.004474</td>\n",
       "      <td>7.397436</td>\n",
       "      <td>20.333333</td>\n",
       "      <td>9.102564</td>\n",
       "      <td>633.358974</td>\n",
       "    </tr>\n",
       "    <tr>\n",
       "      <th>4</th>\n",
       "      <td>1</td>\n",
       "      <td>1</td>\n",
       "      <td>4</td>\n",
       "      <td>0.0</td>\n",
       "      <td>0.022222</td>\n",
       "      <td>20.511111</td>\n",
       "      <td>23.222222</td>\n",
       "      <td>0.012250</td>\n",
       "      <td>7.066667</td>\n",
       "      <td>22.200000</td>\n",
       "      <td>8.488889</td>\n",
       "      <td>637.066667</td>\n",
       "    </tr>\n",
       "  </tbody>\n",
       "</table>\n",
       "</div>"
      ],
      "text/plain": [
       "   cityid  month  hour  DailySnowDepth  DailySnowfall  \\\n",
       "0       1      1     0             0.0       0.026316   \n",
       "1       1      1     1             0.0       0.023256   \n",
       "2       1      1     2             0.0       0.021739   \n",
       "3       1      1     3             0.0       0.025641   \n",
       "4       1      1     4             0.0       0.022222   \n",
       "\n",
       "   HourlyDewPointTemperature  HourlyDryBulbTemperature  HourlyPrecipitation  \\\n",
       "0                  17.684211                 21.157895             0.001707   \n",
       "1                  20.837209                 23.837209             0.002571   \n",
       "2                  20.434783                 23.434783             0.004250   \n",
       "3                  18.102564                 21.384615             0.004474   \n",
       "4                  20.511111                 23.222222             0.012250   \n",
       "\n",
       "   HourlyVisibility  HourlyWetBulbTemperature  HourlyWindSpeed  DaylightTime  \n",
       "0          8.026842                 19.789474         9.710526    632.736842  \n",
       "1          7.860465                 22.697674         8.441860    634.023256  \n",
       "2          6.972826                 22.413043         9.130435    636.913043  \n",
       "3          7.397436                 20.333333         9.102564    633.358974  \n",
       "4          7.066667                 22.200000         8.488889    637.066667  "
      ]
     },
     "execution_count": 32,
     "metadata": {},
     "output_type": "execute_result"
    }
   ],
   "source": [
    "weather_group.head()"
   ]
  },
  {
   "cell_type": "code",
   "execution_count": 61,
   "metadata": {
    "collapsed": true
   },
   "outputs": [],
   "source": [
    "weather_group.columns = ['cityid', 'Month', 'Hour', 'DailySnowDepth', 'DailySnowfall',\n",
    "       'HourlyDewPointTemperature', 'HourlyDryBulbTemperature',\n",
    "       'HourlyPrecipitation', 'HourlyVisibility', 'HourlyWetBulbTemperature',\n",
    "       'HourlyWindSpeed', 'DaylightTime']"
   ]
  },
  {
   "cell_type": "markdown",
   "metadata": {},
   "source": [
    "## merge with train/test data"
   ]
  },
  {
   "cell_type": "code",
   "execution_count": 33,
   "metadata": {
    "collapsed": true
   },
   "outputs": [],
   "source": [
    "train = pd.read_csv('train.csv')\n",
    "test = pd.read_csv('test.csv')"
   ]
  },
  {
   "cell_type": "code",
   "execution_count": 47,
   "metadata": {},
   "outputs": [
    {
     "data": {
      "text/plain": [
       "RowId                        int64\n",
       "IntersectionId               int64\n",
       "Latitude                   float64\n",
       "Longitude                  float64\n",
       "EntryStreetName             object\n",
       "ExitStreetName              object\n",
       "EntryHeading                object\n",
       "ExitHeading                 object\n",
       "Hour                         int64\n",
       "Weekend                      int64\n",
       "Month                        int64\n",
       "Path                        object\n",
       "TotalTimeStopped_p20         int64\n",
       "TotalTimeStopped_p40         int64\n",
       "TotalTimeStopped_p50         int64\n",
       "TotalTimeStopped_p60         int64\n",
       "TotalTimeStopped_p80         int64\n",
       "TimeFromFirstStop_p20        int64\n",
       "TimeFromFirstStop_p40        int64\n",
       "TimeFromFirstStop_p50        int64\n",
       "TimeFromFirstStop_p60        int64\n",
       "TimeFromFirstStop_p80        int64\n",
       "DistanceToFirstStop_p20    float64\n",
       "DistanceToFirstStop_p40    float64\n",
       "DistanceToFirstStop_p50    float64\n",
       "DistanceToFirstStop_p60    float64\n",
       "DistanceToFirstStop_p80    float64\n",
       "City                        object\n",
       "dtype: object"
      ]
     },
     "execution_count": 47,
     "metadata": {},
     "output_type": "execute_result"
    }
   ],
   "source": [
    "train.dtypes"
   ]
  },
  {
   "cell_type": "code",
   "execution_count": 51,
   "metadata": {
    "collapsed": true
   },
   "outputs": [],
   "source": [
    "# exclude 'Philadelphia'\n",
    "train = train[train.City!='Philadelphia']\n",
    "test = test[test.City!='Philadelphia']"
   ]
  },
  {
   "cell_type": "code",
   "execution_count": 56,
   "metadata": {
    "collapsed": true
   },
   "outputs": [],
   "source": [
    "# encoding cityid\n",
    "train['cityid'] = ''\n",
    "train.loc[train.City=='Atlanta','cityid'] = 3\n",
    "train.loc[train.City=='Boston','cityid'] = 2\n",
    "train.loc[train.City=='Chicago','cityid'] = 1"
   ]
  },
  {
   "cell_type": "code",
   "execution_count": 59,
   "metadata": {
    "collapsed": true
   },
   "outputs": [],
   "source": [
    "test['cityid'] = ''\n",
    "test.loc[test.City=='Atlanta','cityid'] = 3\n",
    "test.loc[test.City=='Boston','cityid'] = 2\n",
    "test.loc[test.City=='Chicago','cityid'] = 1"
   ]
  },
  {
   "cell_type": "code",
   "execution_count": 68,
   "metadata": {
    "collapsed": true
   },
   "outputs": [],
   "source": [
    "# add distance from city centers\n",
    "def add_distance(df): \n",
    "    df_center = pd.DataFrame({\"Atlanta\":[33.753746, -84.386330],\n",
    "                             \"Boston\":[42.361145, -71.057083],\n",
    "                             \"Chicago\":[41.881832, -87.623177]})\n",
    "    \n",
    "    df[\"CenterDistance\"] = df.apply(lambda row: math.sqrt((df_center[row.City][0] - row.Latitude) ** 2 +\n",
    "                                                          (df_center[row.City][1] - row.Longitude) ** 2) , axis=1)\n",
    "\n",
    "add_distance(train)\n",
    "add_distance(test)"
   ]
  },
  {
   "cell_type": "code",
   "execution_count": 70,
   "metadata": {
    "collapsed": true
   },
   "outputs": [],
   "source": [
    "# merge with weather data\n",
    "train_weather = pd.merge(train, weather_group, on=['cityid', 'Month', 'Hour'],how='left')\n",
    "test_weather = pd.merge(test, weather_group, on=['cityid', 'Month', 'Hour'],how='left')"
   ]
  },
  {
   "cell_type": "code",
   "execution_count": 73,
   "metadata": {
    "collapsed": true
   },
   "outputs": [],
   "source": [
    "train_weather.columns = ['RowId', 'IntersectionId', 'Latitude', 'Longitude', 'EntryStreetName',\n",
    "       'ExitStreetName', 'EntryHeading', 'ExitHeading', 'Hour', 'Weekend',\n",
    "       'Month', 'Path', 'TotalTimeStopped_p20', 'TotalTimeStopped_p40',\n",
    "       'TotalTimeStopped_p50', 'TotalTimeStopped_p60', 'TotalTimeStopped_p80',\n",
    "       'TimeFromFirstStop_p20', 'TimeFromFirstStop_p40',\n",
    "       'TimeFromFirstStop_p50', 'TimeFromFirstStop_p60',\n",
    "       'TimeFromFirstStop_p80', 'DistanceToFirstStop_p20',\n",
    "       'DistanceToFirstStop_p40', 'DistanceToFirstStop_p50',\n",
    "       'DistanceToFirstStop_p60', 'DistanceToFirstStop_p80', 'City', 'Cityid',\n",
    "       'CenterDistance', 'DailySnowDepth', 'DailySnowfall',\n",
    "       'HourlyDewPointTemperature', 'HourlyDryBulbTemperature',\n",
    "       'HourlyPrecipitation', 'HourlyVisibility', 'HourlyWetBulbTemperature',\n",
    "       'HourlyWindSpeed', 'DaylightTime']"
   ]
  },
  {
   "cell_type": "code",
   "execution_count": 76,
   "metadata": {
    "collapsed": true
   },
   "outputs": [],
   "source": [
    "test_weather.columns = ['RowId', 'IntersectionId', 'Latitude', 'Longitude', 'EntryStreetName',\n",
    "       'ExitStreetName', 'EntryHeading', 'ExitHeading', 'Hour', 'Weekend',\n",
    "       'Month', 'Path', 'City', 'Cityid', 'CenterDistance', 'DailySnowDepth',\n",
    "       'DailySnowfall', 'HourlyDewPointTemperature',\n",
    "       'HourlyDryBulbTemperature', 'HourlyPrecipitation', 'HourlyVisibility',\n",
    "       'HourlyWetBulbTemperature', 'HourlyWindSpeed', 'DaylightTime']"
   ]
  },
  {
   "cell_type": "code",
   "execution_count": 79,
   "metadata": {
    "collapsed": true
   },
   "outputs": [],
   "source": [
    "train_weather.to_csv('train_weather.csv',index=False)\n",
    "test_weather.to_csv('test_weather.csv',index=False)"
   ]
  },
  {
   "cell_type": "markdown",
   "metadata": {
    "collapsed": true
   },
   "source": [
    "## sample"
   ]
  },
  {
   "cell_type": "code",
   "execution_count": 18,
   "metadata": {
    "collapsed": true
   },
   "outputs": [],
   "source": [
    "data = pd.read_csv('/Users/Loielaine/Desktop/umich-2019/EECS545/project/data/train_weather.csv')"
   ]
  },
  {
   "cell_type": "code",
   "execution_count": 20,
   "metadata": {},
   "outputs": [
    {
     "data": {
      "text/plain": [
       "(468852, 39)"
      ]
     },
     "execution_count": 20,
     "metadata": {},
     "output_type": "execute_result"
    }
   ],
   "source": [
    "data.shape"
   ]
  },
  {
   "cell_type": "code",
   "execution_count": 19,
   "metadata": {
    "collapsed": true
   },
   "outputs": [],
   "source": [
    "data = data[data.Month!=1]"
   ]
  },
  {
   "cell_type": "code",
   "execution_count": 42,
   "metadata": {},
   "outputs": [
    {
     "data": {
      "text/plain": [
       "2397"
      ]
     },
     "execution_count": 42,
     "metadata": {},
     "output_type": "execute_result"
    }
   ],
   "source": [
    "len(data.IntersectionId.unique())"
   ]
  },
  {
   "cell_type": "code",
   "execution_count": 31,
   "metadata": {},
   "outputs": [
    {
     "data": {
      "text/plain": [
       "0.02132869220990846"
      ]
     },
     "execution_count": 31,
     "metadata": {},
     "output_type": "execute_result"
    }
   ],
   "source": [
    "float(10000)/float(468852)"
   ]
  },
  {
   "cell_type": "code",
   "execution_count": 28,
   "metadata": {},
   "outputs": [
    {
     "data": {
      "text/html": [
       "<div>\n",
       "<style scoped>\n",
       "    .dataframe tbody tr th:only-of-type {\n",
       "        vertical-align: middle;\n",
       "    }\n",
       "\n",
       "    .dataframe tbody tr th {\n",
       "        vertical-align: top;\n",
       "    }\n",
       "\n",
       "    .dataframe thead th {\n",
       "        text-align: right;\n",
       "    }\n",
       "</style>\n",
       "<table border=\"1\" class=\"dataframe\">\n",
       "  <thead>\n",
       "    <tr style=\"text-align: right;\">\n",
       "      <th></th>\n",
       "      <th>RowId</th>\n",
       "      <th>IntersectionId</th>\n",
       "      <th>Latitude</th>\n",
       "      <th>Longitude</th>\n",
       "      <th>EntryStreetName</th>\n",
       "      <th>ExitStreetName</th>\n",
       "      <th>EntryHeading</th>\n",
       "      <th>ExitHeading</th>\n",
       "      <th>Hour</th>\n",
       "      <th>Weekend</th>\n",
       "      <th>...</th>\n",
       "      <th>CenterDistance</th>\n",
       "      <th>DailySnowDepth</th>\n",
       "      <th>DailySnowfall</th>\n",
       "      <th>HourlyDewPointTemperature</th>\n",
       "      <th>HourlyDryBulbTemperature</th>\n",
       "      <th>HourlyPrecipitation</th>\n",
       "      <th>HourlyVisibility</th>\n",
       "      <th>HourlyWetBulbTemperature</th>\n",
       "      <th>HourlyWindSpeed</th>\n",
       "      <th>DaylightTime</th>\n",
       "    </tr>\n",
       "    <tr>\n",
       "      <th>Cityid</th>\n",
       "      <th></th>\n",
       "      <th></th>\n",
       "      <th></th>\n",
       "      <th></th>\n",
       "      <th></th>\n",
       "      <th></th>\n",
       "      <th></th>\n",
       "      <th></th>\n",
       "      <th></th>\n",
       "      <th></th>\n",
       "      <th></th>\n",
       "      <th></th>\n",
       "      <th></th>\n",
       "      <th></th>\n",
       "      <th></th>\n",
       "      <th></th>\n",
       "      <th></th>\n",
       "      <th></th>\n",
       "      <th></th>\n",
       "      <th></th>\n",
       "      <th></th>\n",
       "    </tr>\n",
       "  </thead>\n",
       "  <tbody>\n",
       "    <tr>\n",
       "      <th>1</th>\n",
       "      <td>133674</td>\n",
       "      <td>133674</td>\n",
       "      <td>133674</td>\n",
       "      <td>133674</td>\n",
       "      <td>132944</td>\n",
       "      <td>133018</td>\n",
       "      <td>133674</td>\n",
       "      <td>133674</td>\n",
       "      <td>133674</td>\n",
       "      <td>133674</td>\n",
       "      <td>...</td>\n",
       "      <td>133674</td>\n",
       "      <td>133674</td>\n",
       "      <td>133674</td>\n",
       "      <td>133674</td>\n",
       "      <td>133674</td>\n",
       "      <td>133674</td>\n",
       "      <td>133674</td>\n",
       "      <td>133674</td>\n",
       "      <td>133674</td>\n",
       "      <td>133674</td>\n",
       "    </tr>\n",
       "    <tr>\n",
       "      <th>2</th>\n",
       "      <td>182027</td>\n",
       "      <td>182027</td>\n",
       "      <td>182027</td>\n",
       "      <td>182027</td>\n",
       "      <td>180375</td>\n",
       "      <td>181029</td>\n",
       "      <td>182027</td>\n",
       "      <td>182027</td>\n",
       "      <td>182027</td>\n",
       "      <td>182027</td>\n",
       "      <td>...</td>\n",
       "      <td>182027</td>\n",
       "      <td>182023</td>\n",
       "      <td>182023</td>\n",
       "      <td>182023</td>\n",
       "      <td>182023</td>\n",
       "      <td>182023</td>\n",
       "      <td>182023</td>\n",
       "      <td>182023</td>\n",
       "      <td>182023</td>\n",
       "      <td>182023</td>\n",
       "    </tr>\n",
       "    <tr>\n",
       "      <th>3</th>\n",
       "      <td>153151</td>\n",
       "      <td>153151</td>\n",
       "      <td>153151</td>\n",
       "      <td>153151</td>\n",
       "      <td>150019</td>\n",
       "      <td>150675</td>\n",
       "      <td>153151</td>\n",
       "      <td>153151</td>\n",
       "      <td>153151</td>\n",
       "      <td>153151</td>\n",
       "      <td>...</td>\n",
       "      <td>153151</td>\n",
       "      <td>153103</td>\n",
       "      <td>153103</td>\n",
       "      <td>153103</td>\n",
       "      <td>153103</td>\n",
       "      <td>153103</td>\n",
       "      <td>153103</td>\n",
       "      <td>153103</td>\n",
       "      <td>153103</td>\n",
       "      <td>153103</td>\n",
       "    </tr>\n",
       "  </tbody>\n",
       "</table>\n",
       "<p>3 rows × 38 columns</p>\n",
       "</div>"
      ],
      "text/plain": [
       "         RowId  IntersectionId  Latitude  Longitude  EntryStreetName  \\\n",
       "Cityid                                                                 \n",
       "1       133674          133674    133674     133674           132944   \n",
       "2       182027          182027    182027     182027           180375   \n",
       "3       153151          153151    153151     153151           150019   \n",
       "\n",
       "        ExitStreetName  EntryHeading  ExitHeading    Hour  Weekend  \\\n",
       "Cityid                                                               \n",
       "1               133018        133674       133674  133674   133674   \n",
       "2               181029        182027       182027  182027   182027   \n",
       "3               150675        153151       153151  153151   153151   \n",
       "\n",
       "            ...       CenterDistance  DailySnowDepth  DailySnowfall  \\\n",
       "Cityid      ...                                                       \n",
       "1           ...               133674          133674         133674   \n",
       "2           ...               182027          182023         182023   \n",
       "3           ...               153151          153103         153103   \n",
       "\n",
       "        HourlyDewPointTemperature  HourlyDryBulbTemperature  \\\n",
       "Cityid                                                        \n",
       "1                          133674                    133674   \n",
       "2                          182023                    182023   \n",
       "3                          153103                    153103   \n",
       "\n",
       "        HourlyPrecipitation  HourlyVisibility  HourlyWetBulbTemperature  \\\n",
       "Cityid                                                                    \n",
       "1                    133674            133674                    133674   \n",
       "2                    182023            182023                    182023   \n",
       "3                    153103            153103                    153103   \n",
       "\n",
       "        HourlyWindSpeed  DaylightTime  \n",
       "Cityid                                 \n",
       "1                133674        133674  \n",
       "2                182023        182023  \n",
       "3                153103        153103  \n",
       "\n",
       "[3 rows x 38 columns]"
      ]
     },
     "execution_count": 28,
     "metadata": {},
     "output_type": "execute_result"
    }
   ],
   "source": [
    "data.groupby(['Cityid']).count()"
   ]
  },
  {
   "cell_type": "code",
   "execution_count": 41,
   "metadata": {},
   "outputs": [
    {
     "data": {
      "text/plain": [
       "list"
      ]
     },
     "execution_count": 41,
     "metadata": {},
     "output_type": "execute_result"
    }
   ],
   "source": [
    "type(list(data.loc[data.Cityid==i,'RowId']))"
   ]
  },
  {
   "cell_type": "code",
   "execution_count": 68,
   "metadata": {},
   "outputs": [],
   "source": [
    "sample = pd.DataFrame(columns = data.columns)\n",
    "for i in [1,2,3]:\n",
    "    IntersectionId = data.loc[data.Cityid==i,'IntersectionId'].unique()\n",
    "    index = np.random.choice(IntersectionId, size = int(len(IntersectionId)*0.025) ,replace=False)\n",
    "    s = data[(data.Cityid==i)&(data.IntersectionId.isin(index))]\n",
    "    sample = sample.append(s)  "
   ]
  },
  {
   "cell_type": "code",
   "execution_count": 69,
   "metadata": {},
   "outputs": [
    {
     "data": {
      "text/plain": [
       "(10806, 39)"
      ]
     },
     "execution_count": 69,
     "metadata": {},
     "output_type": "execute_result"
    }
   ],
   "source": [
    "sample[sample.Month<12].shape"
   ]
  },
  {
   "cell_type": "markdown",
   "metadata": {},
   "source": [
    "## Encoding"
   ]
  },
  {
   "cell_type": "code",
   "execution_count": 70,
   "metadata": {
    "collapsed": true
   },
   "outputs": [],
   "source": [
    "data = sample.copy()"
   ]
  },
  {
   "cell_type": "code",
   "execution_count": 81,
   "metadata": {
    "collapsed": true
   },
   "outputs": [],
   "source": [
    "X_train = data[data.Month<12].drop(['RowId','EntryStreetName','Path',\n",
    "       'ExitStreetName','TotalTimeStopped_p20', 'TotalTimeStopped_p40',\n",
    "       'TotalTimeStopped_p50', 'TotalTimeStopped_p60', 'TotalTimeStopped_p80',\n",
    "       'TimeFromFirstStop_p20', 'TimeFromFirstStop_p40',\n",
    "       'TimeFromFirstStop_p50', 'TimeFromFirstStop_p60',\n",
    "       'TimeFromFirstStop_p80', 'DistanceToFirstStop_p20',\n",
    "       'DistanceToFirstStop_p40', 'DistanceToFirstStop_p50',\n",
    "       'DistanceToFirstStop_p60', 'DistanceToFirstStop_p80'],axis=1)"
   ]
  },
  {
   "cell_type": "code",
   "execution_count": 82,
   "metadata": {
    "collapsed": true
   },
   "outputs": [],
   "source": [
    "X_test = data[data.Month==12].drop(['RowId','EntryStreetName','Path',\n",
    "       'ExitStreetName','TotalTimeStopped_p20', 'TotalTimeStopped_p40',\n",
    "       'TotalTimeStopped_p50', 'TotalTimeStopped_p60', 'TotalTimeStopped_p80',\n",
    "       'TimeFromFirstStop_p20', 'TimeFromFirstStop_p40',\n",
    "       'TimeFromFirstStop_p50', 'TimeFromFirstStop_p60',\n",
    "       'TimeFromFirstStop_p80', 'DistanceToFirstStop_p20',\n",
    "       'DistanceToFirstStop_p40', 'DistanceToFirstStop_p50',\n",
    "       'DistanceToFirstStop_p60', 'DistanceToFirstStop_p80'],axis=1)"
   ]
  },
  {
   "cell_type": "code",
   "execution_count": 83,
   "metadata": {},
   "outputs": [
    {
     "data": {
      "text/plain": [
       "(10806, 20)"
      ]
     },
     "execution_count": 83,
     "metadata": {},
     "output_type": "execute_result"
    }
   ],
   "source": [
    "X_train.shape"
   ]
  },
  {
   "cell_type": "code",
   "execution_count": 84,
   "metadata": {},
   "outputs": [
    {
     "data": {
      "text/plain": [
       "(1941, 20)"
      ]
     },
     "execution_count": 84,
     "metadata": {},
     "output_type": "execute_result"
    }
   ],
   "source": [
    "X_test.shape"
   ]
  },
  {
   "cell_type": "code",
   "execution_count": 80,
   "metadata": {},
   "outputs": [],
   "source": [
    "# onehot encoding\n",
    "def OnehotEncoding(X):\n",
    "    X_1 = X[['Cityid','EntryHeading', 'ExitHeading']]\n",
    "    le = preprocessing.LabelEncoder()\n",
    "    X_2 = X_1.apply(le.fit_transform)\n",
    "    enc = preprocessing.OneHotEncoder()\n",
    "    enc.fit(X_2)\n",
    "    X_enc = enc.transform(X_2).toarray()\n",
    "\n",
    "    X = X.drop(['Cityid','EntryHeading','ExitHeading','City'], axis=1).values\n",
    "    X = np.c_[X_enc,X]\n",
    "    return X"
   ]
  },
  {
   "cell_type": "code",
   "execution_count": 75,
   "metadata": {
    "scrolled": true
   },
   "outputs": [
    {
     "data": {
      "text/plain": [
       "(12747, 35)"
      ]
     },
     "execution_count": 75,
     "metadata": {},
     "output_type": "execute_result"
    }
   ],
   "source": [
    "X.shape"
   ]
  },
  {
   "cell_type": "code",
   "execution_count": 85,
   "metadata": {
    "collapsed": true
   },
   "outputs": [],
   "source": [
    "X_train = OnehotEncoding(X_train)\n",
    "X_test = OnehotEncoding(X_test)"
   ]
  },
  {
   "cell_type": "code",
   "execution_count": 90,
   "metadata": {
    "collapsed": true
   },
   "outputs": [],
   "source": [
    "y_train = data.loc[data.Month<12,['TotalTimeStopped_p50', 'TotalTimeStopped_p80']].values\n",
    "y_test = data.loc[data.Month==12,['TotalTimeStopped_p50', 'TotalTimeStopped_p80']].values"
   ]
  },
  {
   "cell_type": "code",
   "execution_count": 91,
   "metadata": {},
   "outputs": [
    {
     "data": {
      "text/plain": [
       "(10806, 2)"
      ]
     },
     "execution_count": 91,
     "metadata": {},
     "output_type": "execute_result"
    }
   ],
   "source": [
    "y_train.shape"
   ]
  },
  {
   "cell_type": "code",
   "execution_count": 94,
   "metadata": {},
   "outputs": [],
   "source": [
    "train = np.concatenate((X_train, y_train),axis=1)"
   ]
  },
  {
   "cell_type": "code",
   "execution_count": 96,
   "metadata": {},
   "outputs": [],
   "source": [
    "test = np.concatenate((X_test, y_test),axis=1)"
   ]
  },
  {
   "cell_type": "code",
   "execution_count": 101,
   "metadata": {},
   "outputs": [],
   "source": [
    "np.savetxt('train_sample.csv', train, delimiter=',')\n",
    "np.savetxt('test_sample.csv', test, delimiter=',')"
   ]
  }
 ],
 "metadata": {
  "kernelspec": {
   "display_name": "Python 2",
   "language": "python",
   "name": "python2"
  },
  "language_info": {
   "codemirror_mode": {
    "name": "ipython",
    "version": 2
   },
   "file_extension": ".py",
   "mimetype": "text/x-python",
   "name": "python",
   "nbconvert_exporter": "python",
   "pygments_lexer": "ipython2",
   "version": "2.7.14"
  }
 },
 "nbformat": 4,
 "nbformat_minor": 2
}
